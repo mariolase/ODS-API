{
 "cells": [
  {
   "cell_type": "markdown",
   "metadata": {},
   "source": [
    "# Documentation - Links from ODS\n",
    "\n",
    "### API Overview\n",
    "https://digital.nhs.uk/services/organisation-data-service/apis-for-the-organisation-data-service#section-4\n",
    "\n",
    "### Search endpoint\n",
    "https://digital.nhs.uk/services/organisation-data-service/guidance-for-developers/search-endpoint\n",
    "\n",
    "Search parameters\n",
    "https://digital.nhs.uk/services/organisation-data-service/guidance-for-developers/search-parameters#name-substring-search-\n",
    "\n",
    "### Ogranisation endpoint \n",
    "https://digital.nhs.uk/services/organisation-data-service/guidance-for-developers/organisation-endpoint\n",
    "\n",
    "Org succession explanation\n",
    "https://digital.nhs.uk/services/organisation-data-service/guidance-for-developers/how-to-understand-organisation-succession\n",
    "\n",
    "More endpoints\n",
    "https://digital.nhs.uk/services/organisation-data-service/guidance-for-developers/ods-ord-api-endpoints\n",
    "\n",
    "Implementation guide and links\n",
    "https://directory.spineservices.nhs.uk/ODSAPISuite"
   ]
  },
  {
   "cell_type": "code",
   "execution_count": 1,
   "metadata": {},
   "outputs": [],
   "source": [
    "import pandas as pd\n",
    "import requests\n",
    "import json"
   ]
  },
  {
   "cell_type": "code",
   "execution_count": 2,
   "metadata": {},
   "outputs": [],
   "source": [
    "#import ods codes csv file\n",
    "ODSdata = pd.read_csv('Ods codes list.csv')\n",
    "#select column that contains the ODS codes\n",
    "ODScodes = ODSdata['SiteODSCode'].tolist()\n",
    "\n",
    "#alternatively input codes list\n",
    "ODScodes = [\"X26\", \"T1430\", \"X09\"]"
   ]
  },
  {
   "cell_type": "code",
   "execution_count": 4,
   "metadata": {},
   "outputs": [
    {
     "data": {
      "text/html": [
       "<div>\n",
       "<style scoped>\n",
       "    .dataframe tbody tr th:only-of-type {\n",
       "        vertical-align: middle;\n",
       "    }\n",
       "\n",
       "    .dataframe tbody tr th {\n",
       "        vertical-align: top;\n",
       "    }\n",
       "\n",
       "    .dataframe thead th {\n",
       "        text-align: right;\n",
       "    }\n",
       "</style>\n",
       "<table border=\"1\" class=\"dataframe\">\n",
       "  <thead>\n",
       "    <tr style=\"text-align: right;\">\n",
       "      <th></th>\n",
       "      <th>SiteODScode</th>\n",
       "      <th>SuccessorODScode</th>\n",
       "      <th>PredecessorODScode</th>\n",
       "      <th>Date</th>\n",
       "    </tr>\n",
       "  </thead>\n",
       "  <tbody>\n",
       "    <tr>\n",
       "      <th>0</th>\n",
       "      <td>X26</td>\n",
       "      <td>-</td>\n",
       "      <td>X09</td>\n",
       "      <td>2013-04-01</td>\n",
       "    </tr>\n",
       "    <tr>\n",
       "      <th>1</th>\n",
       "      <td>T1430</td>\n",
       "      <td>X26</td>\n",
       "      <td>-</td>\n",
       "      <td>2013-04-01</td>\n",
       "    </tr>\n",
       "    <tr>\n",
       "      <th>2</th>\n",
       "      <td>X09</td>\n",
       "      <td>X26</td>\n",
       "      <td>-</td>\n",
       "      <td>2013-04-01</td>\n",
       "    </tr>\n",
       "  </tbody>\n",
       "</table>\n",
       "</div>"
      ],
      "text/plain": [
       "  SiteODScode SuccessorODScode PredecessorODScode        Date\n",
       "0         X26                -                X09  2013-04-01\n",
       "1       T1430              X26                  -  2013-04-01\n",
       "2         X09              X26                  -  2013-04-01"
      ]
     },
     "execution_count": 4,
     "metadata": {},
     "output_type": "execute_result"
    }
   ],
   "source": [
    "#create empty dataframe\n",
    "df_succ = pd.DataFrame(columns = [\"SiteODScode\", \"SuccessorODScode\", \"PredecessorODScode\", \"Date\"])\n",
    "#populate dataframe\n",
    "for code in ODScodes:\n",
    "    response = requests.get(\"https://directory.spineservices.nhs.uk/ORD/2-0-0/organisations/\"+str(code)+\"?\")\n",
    "    data = response.json()\n",
    "    try:\n",
    "        for suc in data[\"Organisation\"][\"Succs\"][\"Succ\"]:\n",
    "            site = str(data[\"Organisation\"][\"OrgId\"][\"extension\"])\n",
    "            typesp= (suc[\"Type\"])\n",
    "            if typesp == \"Predecessor\":\n",
    "                successor = \"-\"\n",
    "                predecessor = (suc[\"Target\"][\"OrgId\"][\"extension\"])\n",
    "            elif typesp == \"Successor\":\n",
    "                successor = (suc[\"Target\"][\"OrgId\"][\"extension\"])\n",
    "                predecessor = \"-\"\n",
    "            else:\n",
    "                successor = \"-\"\n",
    "                predecessor = \"-\"\n",
    "\n",
    "            date = (suc[\"Date\"][0][\"Start\"])\n",
    "        \n",
    "    except:\n",
    "        site = str(code) + \" (Not found)\"\n",
    "        successor = \"-\"\n",
    "        predecessor = \"-\"\n",
    "        date = \"-\"\n",
    "\n",
    "    df_succ = df_succ.append({'SiteODScode' : site , \n",
    "                            'SuccessorODScode' : successor, \n",
    "                            'PredecessorODScode' :predecessor, \n",
    "                            'Date' : date}, ignore_index=True)\n",
    "\n",
    "#view dataframe\n",
    "df_succ"
   ]
  },
  {
   "cell_type": "code",
   "execution_count": null,
   "metadata": {},
   "outputs": [],
   "source": [
    "#create output file\n",
    "df_succ.to_csv(\"Successors.csv\", index = False)"
   ]
  }
 ],
 "metadata": {
  "kernelspec": {
   "display_name": "Python 3",
   "language": "python",
   "name": "python3"
  },
  "language_info": {
   "codemirror_mode": {
    "name": "ipython",
    "version": 3
   },
   "file_extension": ".py",
   "mimetype": "text/x-python",
   "name": "python",
   "nbconvert_exporter": "python",
   "pygments_lexer": "ipython3",
   "version": "3.8.3"
  }
 },
 "nbformat": 4,
 "nbformat_minor": 4
}
