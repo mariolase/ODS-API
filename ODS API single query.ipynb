{
 "cells": [
  {
   "cell_type": "markdown",
   "metadata": {},
   "source": [
    "# Documentation - Links from ODS\n",
    "\n",
    "### API Overview\n",
    "https://digital.nhs.uk/services/organisation-data-service/apis-for-the-organisation-data-service#section-4\n",
    "\n",
    "### Search endpoint\n",
    "https://digital.nhs.uk/services/organisation-data-service/guidance-for-developers/search-endpoint\n",
    "\n",
    "Search parameters\n",
    "https://digital.nhs.uk/services/organisation-data-service/guidance-for-developers/search-parameters#name-substring-search-\n",
    "\n",
    "### Ogranisation endpoint \n",
    "https://digital.nhs.uk/services/organisation-data-service/guidance-for-developers/organisation-endpoint\n",
    "\n",
    "Org succession explanation\n",
    "https://digital.nhs.uk/services/organisation-data-service/guidance-for-developers/how-to-understand-organisation-succession\n",
    "\n",
    "More endpoints\n",
    "https://digital.nhs.uk/services/organisation-data-service/guidance-for-developers/ods-ord-api-endpoints\n",
    "\n",
    "Implementation guide and links\n",
    "https://directory.spineservices.nhs.uk/ODSAPISuite"
   ]
  },
  {
   "cell_type": "code",
   "execution_count": 1,
   "metadata": {},
   "outputs": [],
   "source": [
    "import pandas as pd\n",
    "import requests\n",
    "import json"
   ]
  },
  {
   "cell_type": "code",
   "execution_count": 2,
   "metadata": {},
   "outputs": [],
   "source": [
    "def jprint(obj):\n",
    "    # create a formatted string of the Python JSON object\n",
    "    text = json.dumps(obj, sort_keys=True, indent=4)\n",
    "    print(text)"
   ]
  },
  {
   "cell_type": "code",
   "execution_count": 3,
   "metadata": {},
   "outputs": [],
   "source": [
    "#example search endpoint\n",
    "response = requests.get(\"https://directory.spineservices.nhs.uk/ORD/2-0-0/organisations?PostCode=LS14BT\")"
   ]
  },
  {
   "cell_type": "code",
   "execution_count": 4,
   "metadata": {},
   "outputs": [],
   "source": [
    "#example organisation endpoint\n",
    "ODScode = \"505\"\n",
    "response = requests.get(\"https://directory.spineservices.nhs.uk/ORD/2-0-0/organisations/\"+ODScode+\"?\")"
   ]
  },
  {
   "cell_type": "code",
   "execution_count": 5,
   "metadata": {},
   "outputs": [
    {
     "name": "stdout",
     "output_type": "stream",
     "text": [
      "{\n",
      "    \"Organisation\": {\n",
      "        \"Date\": [\n",
      "            {\n",
      "                \"End\": \"1998-03-31\",\n",
      "                \"Start\": \"1980-01-01\",\n",
      "                \"Type\": \"Operational\"\n",
      "            }\n",
      "        ],\n",
      "        \"GeoLoc\": {\n",
      "            \"Location\": {\n",
      "                \"AddrLn1\": \"**UNKNOWN**\",\n",
      "                \"Country\": \"ENGLAND\"\n",
      "            }\n",
      "        },\n",
      "        \"LastChangeDate\": \"2013-05-08\",\n",
      "        \"Name\": \"NOTTINGHAMSHIRE\",\n",
      "        \"OrgId\": {\n",
      "            \"assigningAuthorityName\": \"HSCIC\",\n",
      "            \"extension\": \"505\",\n",
      "            \"root\": \"2.16.840.1.113883.2.1.3.2.4.18.48\"\n",
      "        },\n",
      "        \"Roles\": {\n",
      "            \"Role\": [\n",
      "                {\n",
      "                    \"Date\": [\n",
      "                        {\n",
      "                            \"End\": \"1998-03-31\",\n",
      "                            \"Start\": \"1980-01-01\",\n",
      "                            \"Type\": \"Operational\"\n",
      "                        }\n",
      "                    ],\n",
      "                    \"Status\": \"Inactive\",\n",
      "                    \"id\": \"RO141\",\n",
      "                    \"primaryRole\": true,\n",
      "                    \"uniqueRoleId\": 57138\n",
      "                }\n",
      "            ]\n",
      "        },\n",
      "        \"Status\": \"Inactive\",\n",
      "        \"orgRecordClass\": \"RC1\",\n",
      "        \"refOnly\": true\n",
      "    }\n",
      "}\n"
     ]
    }
   ],
   "source": [
    "#preview API response\n",
    "jprint(response.json())"
   ]
  },
  {
   "cell_type": "code",
   "execution_count": 6,
   "metadata": {},
   "outputs": [],
   "source": [
    "data = response.json()"
   ]
  },
  {
   "cell_type": "code",
   "execution_count": 7,
   "metadata": {},
   "outputs": [
    {
     "data": {
      "text/html": [
       "<div>\n",
       "<style scoped>\n",
       "    .dataframe tbody tr th:only-of-type {\n",
       "        vertical-align: middle;\n",
       "    }\n",
       "\n",
       "    .dataframe tbody tr th {\n",
       "        vertical-align: top;\n",
       "    }\n",
       "\n",
       "    .dataframe thead th {\n",
       "        text-align: right;\n",
       "    }\n",
       "</style>\n",
       "<table border=\"1\" class=\"dataframe\">\n",
       "  <thead>\n",
       "    <tr style=\"text-align: right;\">\n",
       "      <th></th>\n",
       "      <th>Organisation.Name</th>\n",
       "      <th>Organisation.Date</th>\n",
       "      <th>Organisation.OrgId.root</th>\n",
       "      <th>Organisation.OrgId.assigningAuthorityName</th>\n",
       "      <th>Organisation.OrgId.extension</th>\n",
       "      <th>Organisation.Status</th>\n",
       "      <th>Organisation.LastChangeDate</th>\n",
       "      <th>Organisation.orgRecordClass</th>\n",
       "      <th>Organisation.refOnly</th>\n",
       "      <th>Organisation.GeoLoc.Location.AddrLn1</th>\n",
       "      <th>Organisation.GeoLoc.Location.Country</th>\n",
       "      <th>Organisation.Roles.Role</th>\n",
       "    </tr>\n",
       "  </thead>\n",
       "  <tbody>\n",
       "    <tr>\n",
       "      <th>0</th>\n",
       "      <td>NOTTINGHAMSHIRE</td>\n",
       "      <td>[{'Type': 'Operational', 'Start': '1980-01-01'...</td>\n",
       "      <td>2.16.840.1.113883.2.1.3.2.4.18.48</td>\n",
       "      <td>HSCIC</td>\n",
       "      <td>505</td>\n",
       "      <td>Inactive</td>\n",
       "      <td>2013-05-08</td>\n",
       "      <td>RC1</td>\n",
       "      <td>True</td>\n",
       "      <td>**UNKNOWN**</td>\n",
       "      <td>ENGLAND</td>\n",
       "      <td>[{'id': 'RO141', 'uniqueRoleId': 57138, 'prima...</td>\n",
       "    </tr>\n",
       "  </tbody>\n",
       "</table>\n",
       "</div>"
      ],
      "text/plain": [
       "  Organisation.Name                                  Organisation.Date  \\\n",
       "0   NOTTINGHAMSHIRE  [{'Type': 'Operational', 'Start': '1980-01-01'...   \n",
       "\n",
       "             Organisation.OrgId.root  \\\n",
       "0  2.16.840.1.113883.2.1.3.2.4.18.48   \n",
       "\n",
       "  Organisation.OrgId.assigningAuthorityName Organisation.OrgId.extension  \\\n",
       "0                                     HSCIC                          505   \n",
       "\n",
       "  Organisation.Status Organisation.LastChangeDate Organisation.orgRecordClass  \\\n",
       "0            Inactive                  2013-05-08                         RC1   \n",
       "\n",
       "   Organisation.refOnly Organisation.GeoLoc.Location.AddrLn1  \\\n",
       "0                  True                          **UNKNOWN**   \n",
       "\n",
       "  Organisation.GeoLoc.Location.Country  \\\n",
       "0                              ENGLAND   \n",
       "\n",
       "                             Organisation.Roles.Role  \n",
       "0  [{'id': 'RO141', 'uniqueRoleId': 57138, 'prima...  "
      ]
     },
     "execution_count": 7,
     "metadata": {},
     "output_type": "execute_result"
    }
   ],
   "source": [
    "#format whole json reply as normalised dataframe\n",
    "df = pd.DataFrame.from_dict(pd.json_normalize(response.json()), orient='columns')\n",
    "df"
   ]
  },
  {
   "cell_type": "code",
   "execution_count": 9,
   "metadata": {},
   "outputs": [
    {
     "name": "stdout",
     "output_type": "stream",
     "text": [
      "No succession data available\n"
     ]
    },
    {
     "data": {
      "text/html": [
       "<div>\n",
       "<style scoped>\n",
       "    .dataframe tbody tr th:only-of-type {\n",
       "        vertical-align: middle;\n",
       "    }\n",
       "\n",
       "    .dataframe tbody tr th {\n",
       "        vertical-align: top;\n",
       "    }\n",
       "\n",
       "    .dataframe thead th {\n",
       "        text-align: right;\n",
       "    }\n",
       "</style>\n",
       "<table border=\"1\" class=\"dataframe\">\n",
       "  <thead>\n",
       "    <tr style=\"text-align: right;\">\n",
       "      <th></th>\n",
       "      <th>SiteODScode</th>\n",
       "      <th>SuccessorODScode</th>\n",
       "      <th>PredecessorODScode</th>\n",
       "      <th>Date</th>\n",
       "    </tr>\n",
       "  </thead>\n",
       "  <tbody>\n",
       "  </tbody>\n",
       "</table>\n",
       "</div>"
      ],
      "text/plain": [
       "Empty DataFrame\n",
       "Columns: [SiteODScode, SuccessorODScode, PredecessorODScode, Date]\n",
       "Index: []"
      ]
     },
     "execution_count": 9,
     "metadata": {},
     "output_type": "execute_result"
    }
   ],
   "source": [
    "#create empty dataframe\n",
    "df_succ = pd.DataFrame(columns = [\"SiteODScode\", \"SuccessorODScode\", \"PredecessorODScode\", \"Date\"])\n",
    "\n",
    "#populate dataframe row by row\n",
    "try:\n",
    "    for suc in data[\"Organisation\"][\"Succs\"][\"Succ\"]:\n",
    "\n",
    "        site = str(data[\"Organisation\"][\"OrgId\"][\"extension\"])\n",
    "        typesp= (suc[\"Type\"])\n",
    "        if typesp == \"Predecessor\":\n",
    "            successor = \"-\"\n",
    "            predecessor = (suc[\"Target\"][\"OrgId\"][\"extension\"])\n",
    "        elif typesp == \"Successor\":\n",
    "            successor = (suc[\"Target\"][\"OrgId\"][\"extension\"])\n",
    "            predecessor = \"-\"\n",
    "        else:\n",
    "            successor = \"-\"\n",
    "            predecessor = \"-\"\n",
    "\n",
    "        date = (suc[\"Date\"][0][\"Start\"])\n",
    "\n",
    "        df_succ = df_succ.append({'SiteODScode' : site , \n",
    "                                  'SuccessorODScode' : successor, \n",
    "                                  'PredecessorODScode' :predecessor, \n",
    "                                  'Date' : date}, ignore_index=True)\n",
    "except:\n",
    "        print( \"No succession data available\")\n",
    "#view dataframe\n",
    "df_succ"
   ]
  },
  {
   "cell_type": "code",
   "execution_count": null,
   "metadata": {},
   "outputs": [],
   "source": []
  },
  {
   "cell_type": "code",
   "execution_count": null,
   "metadata": {},
   "outputs": [],
   "source": []
  }
 ],
 "metadata": {
  "kernelspec": {
   "display_name": "Python 3",
   "language": "python",
   "name": "python3"
  },
  "language_info": {
   "codemirror_mode": {
    "name": "ipython",
    "version": 3
   },
   "file_extension": ".py",
   "mimetype": "text/x-python",
   "name": "python",
   "nbconvert_exporter": "python",
   "pygments_lexer": "ipython3",
   "version": "3.8.3"
  }
 },
 "nbformat": 4,
 "nbformat_minor": 4
}
